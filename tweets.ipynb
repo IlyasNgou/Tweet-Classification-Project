{
 "cells": [
  {
   "cell_type": "markdown",
   "metadata": {},
   "source": [
    "# Import des bibliothèques\n"
   ]
  },
  {
   "cell_type": "code",
   "execution_count": 1,
   "metadata": {},
   "outputs": [],
   "source": [
    "import pandas as pd\n",
    "import re \n",
    "import tensorflow as tf\n",
    "import numpy as np\n",
    "import seaborn as sns\n",
    "import matplotlib.pyplot as plt\n",
    "from sklearn.svm import SVC\n",
    "%matplotlib inline\n",
    "import nltk\n",
    "from nltk.tokenize import word_tokenize\n",
    "from nltk.corpus import wordnet\n",
    "from nltk.stem import WordNetLemmatizer\n",
    "from sklearn.model_selection import train_test_split ,GridSearchCV\n",
    "from sklearn.feature_extraction.text import TfidfVectorizer\n",
    "from sklearn.naive_bayes import MultinomialNB\n",
    "from sklearn.metrics import confusion_matrix\n",
    "from sklearn.linear_model import LogisticRegression\n",
    "from sklearn.ensemble import RandomForestClassifier\n",
    "from tensorflow.keras.models import Sequential\n",
    "from tensorflow.keras.layers import Dense, Dropout\n",
    "from xgboost import XGBClassifier\n",
    "from sklearn.pipeline import make_pipeline\n",
    "from sklearn.metrics import accuracy_score, classification_report\n",
    "from sklearn.preprocessing import LabelEncoder\n"
   ]
  },
  {
   "cell_type": "markdown",
   "metadata": {},
   "source": [
    "# Chargement des données"
   ]
  },
  {
   "cell_type": "code",
   "execution_count": 2,
   "metadata": {},
   "outputs": [],
   "source": [
    "train = pd.read_csv(\"train.csv\")\n",
    "test = pd.read_csv(\"test.csv\")"
   ]
  },
  {
   "cell_type": "markdown",
   "metadata": {},
   "source": [
    "Copy of original data \n",
    "\n",
    "So that even if we make any changes in these datasets we would not lose the original datasets"
   ]
  },
  {
   "cell_type": "code",
   "execution_count": 3,
   "metadata": {},
   "outputs": [],
   "source": [
    "train_copy = train.copy()\n",
    "test_copy = test.copy()"
   ]
  },
  {
   "cell_type": "markdown",
   "metadata": {},
   "source": [
    "# Data Exploration"
   ]
  },
  {
   "cell_type": "code",
   "execution_count": 51,
   "metadata": {},
   "outputs": [
    {
     "name": "stdout",
     "output_type": "stream",
     "text": [
      "Shape of train data : (6525, 3)\n",
      "Shape of test data : (2610, 2)\n"
     ]
    }
   ],
   "source": [
    "print('Shape of train data :' , train_copy.shape)\n",
    "print('Shape of test data :'  ,test_copy.shape)"
   ]
  },
  {
   "cell_type": "code",
   "execution_count": 52,
   "metadata": {},
   "outputs": [
    {
     "name": "stdout",
     "output_type": "stream",
     "text": [
      "Columns of train data : Index(['TweetId', 'Label', 'TweetText'], dtype='object')\n",
      "Columns of test data : Index(['TweetId', 'TweetText'], dtype='object')\n"
     ]
    }
   ],
   "source": [
    "print('Columns of train data :' ,train_copy.columns)\n",
    "print('Columns of test data :' , test_copy.columns)"
   ]
  },
  {
   "cell_type": "code",
   "execution_count": 53,
   "metadata": {},
   "outputs": [
    {
     "data": {
      "text/plain": [
       "TweetId       int64\n",
       "Label        object\n",
       "TweetText    object\n",
       "dtype: object"
      ]
     },
     "execution_count": 53,
     "metadata": {},
     "output_type": "execute_result"
    }
   ],
   "source": [
    "train_copy.dtypes\n"
   ]
  },
  {
   "cell_type": "code",
   "execution_count": 54,
   "metadata": {},
   "outputs": [
    {
     "data": {
      "text/plain": [
       "TweetId       int64\n",
       "TweetText    object\n",
       "dtype: object"
      ]
     },
     "execution_count": 54,
     "metadata": {},
     "output_type": "execute_result"
    }
   ],
   "source": [
    "test_copy.dtypes"
   ]
  },
  {
   "cell_type": "code",
   "execution_count": 55,
   "metadata": {},
   "outputs": [
    {
     "data": {
      "text/plain": [
       "<bound method DataFrame.info of                  TweetId     Label  \\\n",
       "0     304271250237304833  Politics   \n",
       "1     304834304222064640  Politics   \n",
       "2     303568995880144898    Sports   \n",
       "3     304366580664528896    Sports   \n",
       "4     296770931098009601    Sports   \n",
       "...                  ...       ...   \n",
       "6520  296675082267410433  Politics   \n",
       "6521  306677536195231746    Sports   \n",
       "6522  306451295307431937    Sports   \n",
       "6523  306088574221176832    Sports   \n",
       "6524  277090953242759169  Politics   \n",
       "\n",
       "                                              TweetText  \n",
       "0     '#SecKerry: The value of the @StateDept and @U...  \n",
       "1                               '@rraina1481 I fear so'  \n",
       "2     'Watch video highlights of the #wwc13 final be...  \n",
       "3     'RT @chelscanlan: At Nitro Circus at #AlbertPa...  \n",
       "4     '@cricketfox Always a good thing. Thanks for t...  \n",
       "...                                                 ...  \n",
       "6520  'Photo: PM has laid a wreath at Martyrs Monume...  \n",
       "6521  'The secret of the Chennai pitch - crumbling o...  \n",
       "6522            @alinabhutto he isn't on Twitter either  \n",
       "6523  'Which England player would you take out to di...  \n",
       "6524  'Dmitry #Medvedev expressed condolences to the...  \n",
       "\n",
       "[6525 rows x 3 columns]>"
      ]
     },
     "execution_count": 55,
     "metadata": {},
     "output_type": "execute_result"
    }
   ],
   "source": [
    "train_copy.info"
   ]
  },
  {
   "cell_type": "code",
   "execution_count": 56,
   "metadata": {},
   "outputs": [
    {
     "data": {
      "text/html": [
       "<div>\n",
       "<style scoped>\n",
       "    .dataframe tbody tr th:only-of-type {\n",
       "        vertical-align: middle;\n",
       "    }\n",
       "\n",
       "    .dataframe tbody tr th {\n",
       "        vertical-align: top;\n",
       "    }\n",
       "\n",
       "    .dataframe thead th {\n",
       "        text-align: right;\n",
       "    }\n",
       "</style>\n",
       "<table border=\"1\" class=\"dataframe\">\n",
       "  <thead>\n",
       "    <tr style=\"text-align: right;\">\n",
       "      <th></th>\n",
       "      <th>TweetId</th>\n",
       "      <th>Label</th>\n",
       "      <th>TweetText</th>\n",
       "    </tr>\n",
       "  </thead>\n",
       "  <tbody>\n",
       "    <tr>\n",
       "      <th>0</th>\n",
       "      <td>304271250237304833</td>\n",
       "      <td>Politics</td>\n",
       "      <td>'#SecKerry: The value of the @StateDept and @U...</td>\n",
       "    </tr>\n",
       "    <tr>\n",
       "      <th>1</th>\n",
       "      <td>304834304222064640</td>\n",
       "      <td>Politics</td>\n",
       "      <td>'@rraina1481 I fear so'</td>\n",
       "    </tr>\n",
       "    <tr>\n",
       "      <th>2</th>\n",
       "      <td>303568995880144898</td>\n",
       "      <td>Sports</td>\n",
       "      <td>'Watch video highlights of the #wwc13 final be...</td>\n",
       "    </tr>\n",
       "    <tr>\n",
       "      <th>3</th>\n",
       "      <td>304366580664528896</td>\n",
       "      <td>Sports</td>\n",
       "      <td>'RT @chelscanlan: At Nitro Circus at #AlbertPa...</td>\n",
       "    </tr>\n",
       "    <tr>\n",
       "      <th>4</th>\n",
       "      <td>296770931098009601</td>\n",
       "      <td>Sports</td>\n",
       "      <td>'@cricketfox Always a good thing. Thanks for t...</td>\n",
       "    </tr>\n",
       "  </tbody>\n",
       "</table>\n",
       "</div>"
      ],
      "text/plain": [
       "              TweetId     Label  \\\n",
       "0  304271250237304833  Politics   \n",
       "1  304834304222064640  Politics   \n",
       "2  303568995880144898    Sports   \n",
       "3  304366580664528896    Sports   \n",
       "4  296770931098009601    Sports   \n",
       "\n",
       "                                           TweetText  \n",
       "0  '#SecKerry: The value of the @StateDept and @U...  \n",
       "1                            '@rraina1481 I fear so'  \n",
       "2  'Watch video highlights of the #wwc13 final be...  \n",
       "3  'RT @chelscanlan: At Nitro Circus at #AlbertPa...  \n",
       "4  '@cricketfox Always a good thing. Thanks for t...  "
      ]
     },
     "execution_count": 56,
     "metadata": {},
     "output_type": "execute_result"
    }
   ],
   "source": [
    "train_copy.head()"
   ]
  },
  {
   "cell_type": "code",
   "execution_count": 57,
   "metadata": {},
   "outputs": [
    {
     "name": "stdout",
     "output_type": "stream",
     "text": [
      "The percentage  of lines that contains non-missing values in the train dataset is:  100.0\n"
     ]
    }
   ],
   "source": [
    "print('The percentage  of lines that contains non-missing values in the train dataset is: ', (len(train_copy.notnull())/len(train_copy))*100)"
   ]
  },
  {
   "cell_type": "code",
   "execution_count": 58,
   "metadata": {},
   "outputs": [
    {
     "name": "stdout",
     "output_type": "stream",
     "text": [
      "The percentage  of lines that contains non-missing values in the train dataset is:  100.0\n"
     ]
    }
   ],
   "source": [
    "print('The percentage  of lines that contains non-missing values in the train dataset is: ', (len(test_copy.notnull())/len(test_copy))*100)"
   ]
  },
  {
   "cell_type": "code",
   "execution_count": 59,
   "metadata": {},
   "outputs": [
    {
     "data": {
      "text/html": [
       "<div>\n",
       "<style scoped>\n",
       "    .dataframe tbody tr th:only-of-type {\n",
       "        vertical-align: middle;\n",
       "    }\n",
       "\n",
       "    .dataframe tbody tr th {\n",
       "        vertical-align: top;\n",
       "    }\n",
       "\n",
       "    .dataframe thead th {\n",
       "        text-align: right;\n",
       "    }\n",
       "</style>\n",
       "<table border=\"1\" class=\"dataframe\">\n",
       "  <thead>\n",
       "    <tr style=\"text-align: right;\">\n",
       "      <th></th>\n",
       "      <th>TweetId</th>\n",
       "      <th>TweetText</th>\n",
       "    </tr>\n",
       "  </thead>\n",
       "  <tbody>\n",
       "    <tr>\n",
       "      <th>0</th>\n",
       "      <td>306486520121012224</td>\n",
       "      <td>'28. The home side threaten again through Maso...</td>\n",
       "    </tr>\n",
       "    <tr>\n",
       "      <th>1</th>\n",
       "      <td>286353402605228032</td>\n",
       "      <td>'@mrbrown @aulia Thx for asking. See http://t....</td>\n",
       "    </tr>\n",
       "    <tr>\n",
       "      <th>2</th>\n",
       "      <td>289531046037438464</td>\n",
       "      <td>'@Sochi2014 construction along the shores of t...</td>\n",
       "    </tr>\n",
       "    <tr>\n",
       "      <th>3</th>\n",
       "      <td>306451661403062273</td>\n",
       "      <td>'#SecKerry\\u2019s remarks after meeting with F...</td>\n",
       "    </tr>\n",
       "    <tr>\n",
       "      <th>4</th>\n",
       "      <td>297941800658812928</td>\n",
       "      <td>'The #IPLauction has begun. Ricky Ponting is t...</td>\n",
       "    </tr>\n",
       "  </tbody>\n",
       "</table>\n",
       "</div>"
      ],
      "text/plain": [
       "              TweetId                                          TweetText\n",
       "0  306486520121012224  '28. The home side threaten again through Maso...\n",
       "1  286353402605228032  '@mrbrown @aulia Thx for asking. See http://t....\n",
       "2  289531046037438464  '@Sochi2014 construction along the shores of t...\n",
       "3  306451661403062273  '#SecKerry\\u2019s remarks after meeting with F...\n",
       "4  297941800658812928  'The #IPLauction has begun. Ricky Ponting is t..."
      ]
     },
     "execution_count": 59,
     "metadata": {},
     "output_type": "execute_result"
    }
   ],
   "source": [
    "test_copy.head()"
   ]
  },
  {
   "cell_type": "code",
   "execution_count": 60,
   "metadata": {},
   "outputs": [
    {
     "data": {
      "text/plain": [
       "Label\n",
       "Sports      3325\n",
       "Politics    3200\n",
       "Name: count, dtype: int64"
      ]
     },
     "execution_count": 60,
     "metadata": {},
     "output_type": "execute_result"
    }
   ],
   "source": [
    "train_copy['Label'].value_counts()"
   ]
  },
  {
   "cell_type": "markdown",
   "metadata": {},
   "source": [
    "# Data Visualization"
   ]
  },
  {
   "cell_type": "code",
   "execution_count": 61,
   "metadata": {},
   "outputs": [
    {
     "name": "stdout",
     "output_type": "stream",
     "text": [
      "Label pourcentage\n",
      "             Label  Pourcentage\n",
      "Label                          \n",
      "Sports      Sports     0.509579\n",
      "Politics  Politics     0.490421\n"
     ]
    },
    {
     "data": {
      "image/png": "[encoded data removed]",
      "text/plain": [
       "<Figure size 400x400 with 1 Axes>"
      ]
     },
     "metadata": {},
     "output_type": "display_data"
    }
   ],
   "source": [
    "data={\"Label\" :train_copy[\"Label\"].value_counts(normalize=True).index ,'Pourcentage' :train_copy[\"Label\"].value_counts(normalize=True) }\n",
    "data=pd.DataFrame(data)\n",
    "print('Label pourcentage')\n",
    "print(data)\n",
    "color = ['blue','orange']\n",
    "data.plot.bar(title='Label pourcentage', x=\"Label\", y='Pourcentage',color=color ,figsize=(4,4) )\n",
    "plt.show()"
   ]
  },
  {
   "cell_type": "code",
   "execution_count": 62,
   "metadata": {},
   "outputs": [
    {
     "data": {
      "image/png": "[encoded data removed]",
      "text/plain": [
       "<Figure size 640x480 with 1 Axes>"
      ]
     },
     "metadata": {},
     "output_type": "display_data"
    }
   ],
   "source": [
    "\n",
    "plt.pie(data['Pourcentage'],labels=data['Label'],autopct='%1.1f%%',startangle=90)\n",
    "plt.title('Répartion des default')\n",
    "plt.show()"
   ]
  },
  {
   "cell_type": "markdown",
   "metadata": {},
   "source": [
    "#  Feature Extraction\n"
   ]
  },
  {
   "cell_type": "markdown",
   "metadata": {},
   "source": [
    "This extraction step involves converting raw text data into numerical features that can be fed into machine learning models. In this task, we used the TF-IDF (Term Frequency-Inverse Document Frequency) vectorizer to transform the text data into numerical features. TF-IDF vectorizer helps in capturing the importance of a word in a document relative to the entire corpus."
   ]
  },
  {
   "cell_type": "code",
   "execution_count": 4,
   "metadata": {},
   "outputs": [],
   "source": [
    "def preprocess_text(text):\n",
    "    text = re.sub(r'http\\S+', '', text)\n",
    "    text = re.sub(r'@\\w+', '', text)\n",
    "    text = re.sub(r'[^a-zA-Z\\s]', '', text)\n",
    "    text = text.lower()\n",
    "    return text"
   ]
  },
  {
   "cell_type": "code",
   "execution_count": 5,
   "metadata": {},
   "outputs": [
    {
     "name": "stderr",
     "output_type": "stream",
     "text": [
      "[nltk_data] Downloading package punkt to\n",
      "[nltk_data]     C:\\Users\\hp\\AppData\\Roaming\\nltk_data...\n",
      "[nltk_data]   Package punkt is already up-to-date!\n",
      "[nltk_data] Downloading package wordnet to\n",
      "[nltk_data]     C:\\Users\\hp\\AppData\\Roaming\\nltk_data...\n",
      "[nltk_data]   Package wordnet is already up-to-date!\n",
      "[nltk_data] Downloading package omw-1.4 to\n",
      "[nltk_data]     C:\\Users\\hp\\AppData\\Roaming\\nltk_data...\n",
      "[nltk_data]   Package omw-1.4 is already up-to-date!\n",
      "[nltk_data] Downloading package averaged_perceptron_tagger to\n",
      "[nltk_data]     C:\\Users\\hp\\AppData\\Roaming\\nltk_data...\n",
      "[nltk_data]   Package averaged_perceptron_tagger is already up-to-\n",
      "[nltk_data]       date!\n"
     ]
    }
   ],
   "source": [
    "nltk.download('punkt')\n",
    "nltk.download('wordnet')\n",
    "nltk.download('omw-1.4')\n",
    "nltk.download('averaged_perceptron_tagger')\n",
    "\n",
    "lemmatizer = WordNetLemmatizer()\n",
    "\n",
    "def get_wordnet_pos(word):\n",
    "    \"\"\"Map POS tag to first character lemmatize() accepts\"\"\"\n",
    "    tag = nltk.pos_tag([word])[0][1][0].upper()\n",
    "    tag_dict = {\"J\": wordnet.ADJ,\n",
    "                \"N\": wordnet.NOUN,\n",
    "                \"V\": wordnet.VERB,\n",
    "                \"R\": wordnet.ADV}\n",
    "    return tag_dict.get(tag, wordnet.NOUN)\n"
   ]
  },
  {
   "cell_type": "code",
   "execution_count": 6,
   "metadata": {},
   "outputs": [],
   "source": [
    "def lemmatize_text(text):\n",
    "    tokens = word_tokenize(text)\n",
    "    lemmatized_tokens = [lemmatizer.lemmatize(token, get_wordnet_pos(token)) for token in tokens]\n",
    "    return ' '.join(lemmatized_tokens)"
   ]
  },
  {
   "cell_type": "code",
   "execution_count": 7,
   "metadata": {},
   "outputs": [
    {
     "data": {
      "text/plain": [
       "0       seckerry the value of the and be measure not i...\n",
       "1                                               i fear so\n",
       "2       watch video highlight of the wwc final between...\n",
       "3       rt at nitro circus at albertpark theymakeitloo...\n",
       "4             always a good thing thanks for the feedback\n",
       "                              ...                        \n",
       "6520    photo pm have laid a wreath at martyr monument...\n",
       "6521    the secret of the chennai pitch crumble on the...\n",
       "6522                            he isnt on twitter either\n",
       "6523    which england player would you take out to din...\n",
       "6524    dmitry medvedev express condolence to the fami...\n",
       "Name: cleaned_tweets, Length: 6525, dtype: object"
      ]
     },
     "execution_count": 7,
     "metadata": {},
     "output_type": "execute_result"
    }
   ],
   "source": [
    "train_copy['cleaned_tweets']=train_copy['TweetText'].apply(preprocess_text)\n",
    "train_copy['cleaned_tweets'] = train_copy['cleaned_tweets'].apply(lemmatize_text)\n",
    "train_copy['cleaned_tweets']"
   ]
  },
  {
   "cell_type": "code",
   "execution_count": 8,
   "metadata": {},
   "outputs": [],
   "source": [
    "X_train, X_test, y_train, y_test = train_test_split(train_copy['cleaned_tweets'], train_copy['Label'], test_size=0.2, random_state=42)\n"
   ]
  },
  {
   "cell_type": "code",
   "execution_count": 9,
   "metadata": {},
   "outputs": [],
   "source": [
    "vectorizer = TfidfVectorizer()\n",
    "\n",
    "# Fit and transform the training data\n",
    "X_train_tfidf = vectorizer.fit_transform(X_train)\n",
    "\n",
    "# Transform the test data\n",
    "X_test_tfidf = vectorizer.transform(X_test)\n"
   ]
  },
  {
   "cell_type": "markdown",
   "metadata": {},
   "source": [
    "# Model Training"
   ]
  },
  {
   "cell_type": "markdown",
   "metadata": {},
   "source": [
    "In the Model training step we used the extracted features to train various machine learning models. In this task, we trained multiple models including Logistic Regression, Random Forest, Naive Bayes, Support Vector Classifier, XGBoost, and a TensorFlow neural network."
   ]
  },
  {
   "cell_type": "code",
   "execution_count": 101,
   "metadata": {},
   "outputs": [
    {
     "name": "stdout",
     "output_type": "stream",
     "text": [
      "Logistic Regression Accuracy: 0.9440613026819923\n",
      "              precision    recall  f1-score   support\n",
      "\n",
      "    Politics       0.95      0.94      0.94       638\n",
      "      Sports       0.94      0.95      0.95       667\n",
      "\n",
      "    accuracy                           0.94      1305\n",
      "   macro avg       0.94      0.94      0.94      1305\n",
      "weighted avg       0.94      0.94      0.94      1305\n",
      "\n",
      "Random Forest Accuracy: 0.8659003831417624\n",
      "              precision    recall  f1-score   support\n",
      "\n",
      "    Politics       0.91      0.81      0.85       638\n",
      "      Sports       0.83      0.92      0.88       667\n",
      "\n",
      "    accuracy                           0.87      1305\n",
      "   macro avg       0.87      0.86      0.87      1305\n",
      "weighted avg       0.87      0.87      0.87      1305\n",
      "\n",
      "Naive Bayes Accuracy: 0.9325670498084291\n",
      "              precision    recall  f1-score   support\n",
      "\n",
      "    Politics       0.95      0.91      0.93       638\n",
      "      Sports       0.92      0.95      0.94       667\n",
      "\n",
      "    accuracy                           0.93      1305\n",
      "   macro avg       0.93      0.93      0.93      1305\n",
      "weighted avg       0.93      0.93      0.93      1305\n",
      "\n",
      "Support Vector Classifier Accuracy: 0.9356321839080459\n",
      "              precision    recall  f1-score   support\n",
      "\n",
      "    Politics       0.94      0.92      0.93       638\n",
      "      Sports       0.93      0.95      0.94       667\n",
      "\n",
      "    accuracy                           0.94      1305\n",
      "   macro avg       0.94      0.94      0.94      1305\n",
      "weighted avg       0.94      0.94      0.94      1305\n",
      "\n",
      "XGBoost Accuracy: 0.8934865900383142\n",
      "              precision    recall  f1-score   support\n",
      "\n",
      "    Politics       0.92      0.86      0.89       638\n",
      "      Sports       0.87      0.93      0.90       667\n",
      "\n",
      "    accuracy                           0.89      1305\n",
      "   macro avg       0.90      0.89      0.89      1305\n",
      "weighted avg       0.89      0.89      0.89      1305\n",
      "\n"
     ]
    },
    {
     "name": "stderr",
     "output_type": "stream",
     "text": [
      "c:\\Users\\hp\\AppData\\Local\\Programs\\Python\\Python310\\lib\\site-packages\\keras\\src\\layers\\core\\dense.py:86: UserWarning: Do not pass an `input_shape`/`input_dim` argument to a layer. When using Sequential models, prefer using an `Input(shape)` object as the first layer in the model instead.\n",
      "  super().__init__(activity_regularizer=activity_regularizer, **kwargs)\n"
     ]
    },
    {
     "name": "stdout",
     "output_type": "stream",
     "text": [
      "Epoch 1/10\n",
      "\u001b[1m74/74\u001b[0m \u001b[32m━━━━━━━━━━━━━━━━━━━━\u001b[0m\u001b[37m\u001b[0m \u001b[1m11s\u001b[0m 96ms/step - accuracy: 0.6666 - loss: 0.6020 - val_accuracy: 0.9195 - val_loss: 0.1679\n",
      "Epoch 2/10\n",
      "\u001b[1m74/74\u001b[0m \u001b[32m━━━━━━━━━━━━━━━━━━━━\u001b[0m\u001b[37m\u001b[0m \u001b[1m7s\u001b[0m 87ms/step - accuracy: 0.9670 - loss: 0.0944 - val_accuracy: 0.9291 - val_loss: 0.1622\n",
      "Epoch 3/10\n",
      "\u001b[1m74/74\u001b[0m \u001b[32m━━━━━━━━━━━━━━━━━━━━\u001b[0m\u001b[37m\u001b[0m \u001b[1m7s\u001b[0m 95ms/step - accuracy: 0.9881 - loss: 0.0342 - val_accuracy: 0.9253 - val_loss: 0.1711\n",
      "Epoch 4/10\n",
      "\u001b[1m74/74\u001b[0m \u001b[32m━━━━━━━━━━━━━━━━━━━━\u001b[0m\u001b[37m\u001b[0m \u001b[1m8s\u001b[0m 106ms/step - accuracy: 0.9934 - loss: 0.0174 - val_accuracy: 0.9310 - val_loss: 0.1784\n",
      "Epoch 5/10\n",
      "\u001b[1m74/74\u001b[0m \u001b[32m━━━━━━━━━━━━━━━━━━━━\u001b[0m\u001b[37m\u001b[0m \u001b[1m7s\u001b[0m 88ms/step - accuracy: 0.9929 - loss: 0.0153 - val_accuracy: 0.9330 - val_loss: 0.1841\n",
      "Epoch 6/10\n",
      "\u001b[1m74/74\u001b[0m \u001b[32m━━━━━━━━━━━━━━━━━━━━\u001b[0m\u001b[37m\u001b[0m \u001b[1m7s\u001b[0m 91ms/step - accuracy: 0.9962 - loss: 0.0100 - val_accuracy: 0.9330 - val_loss: 0.1842\n",
      "Epoch 7/10\n",
      "\u001b[1m74/74\u001b[0m \u001b[32m━━━━━━━━━━━━━━━━━━━━\u001b[0m\u001b[37m\u001b[0m \u001b[1m7s\u001b[0m 94ms/step - accuracy: 0.9961 - loss: 0.0076 - val_accuracy: 0.9330 - val_loss: 0.1882\n",
      "Epoch 8/10\n",
      "\u001b[1m74/74\u001b[0m \u001b[32m━━━━━━━━━━━━━━━━━━━━\u001b[0m\u001b[37m\u001b[0m \u001b[1m7s\u001b[0m 94ms/step - accuracy: 0.9968 - loss: 0.0082 - val_accuracy: 0.9368 - val_loss: 0.2025\n",
      "Epoch 9/10\n",
      "\u001b[1m74/74\u001b[0m \u001b[32m━━━━━━━━━━━━━━━━━━━━\u001b[0m\u001b[37m\u001b[0m \u001b[1m7s\u001b[0m 91ms/step - accuracy: 0.9961 - loss: 0.0080 - val_accuracy: 0.9349 - val_loss: 0.2105\n",
      "Epoch 10/10\n",
      "\u001b[1m74/74\u001b[0m \u001b[32m━━━━━━━━━━━━━━━━━━━━\u001b[0m\u001b[37m\u001b[0m \u001b[1m7s\u001b[0m 89ms/step - accuracy: 0.9957 - loss: 0.0087 - val_accuracy: 0.9387 - val_loss: 0.2043\n",
      "\u001b[1m41/41\u001b[0m \u001b[32m━━━━━━━━━━━━━━━━━━━━\u001b[0m\u001b[37m\u001b[0m \u001b[1m1s\u001b[0m 15ms/step\n",
      "TensorFlow Neural Network Accuracy: 0.9448275862068966\n",
      "              precision    recall  f1-score   support\n",
      "\n",
      "           0       0.95      0.94      0.95       667\n",
      "           1       0.94      0.95      0.94       638\n",
      "\n",
      "    accuracy                           0.94      1305\n",
      "   macro avg       0.94      0.94      0.94      1305\n",
      "weighted avg       0.94      0.94      0.94      1305\n",
      "\n"
     ]
    }
   ],
   "source": [
    "\n",
    "# Logistic Regression\n",
    "lr_model = LogisticRegression(C=10, solver='liblinear')\n",
    "lr_model.fit(X_train_tfidf, y_train)\n",
    "y_pred_lr = lr_model.predict(X_test_tfidf)\n",
    "print(\"Logistic Regression Accuracy:\", accuracy_score(y_test, y_pred_lr))\n",
    "print(classification_report(y_test, y_pred_lr))\n",
    "\n",
    "# Random Forest\n",
    "rf_model = RandomForestClassifier(n_estimators=100, max_depth=10)\n",
    "rf_model.fit(X_train_tfidf, y_train)\n",
    "y_pred_rf = rf_model.predict(X_test_tfidf)\n",
    "print(\"Random Forest Accuracy:\", accuracy_score(y_test, y_pred_rf))\n",
    "print(classification_report(y_test, y_pred_rf))\n",
    "\n",
    "# Naive Bayes\n",
    "nb_model = MultinomialNB(alpha=1.0)\n",
    "nb_model.fit(X_train_tfidf, y_train)\n",
    "y_pred_nb = nb_model.predict(X_test_tfidf)\n",
    "print(\"Naive Bayes Accuracy:\", accuracy_score(y_test, y_pred_nb))\n",
    "print(classification_report(y_test, y_pred_nb))\n",
    "\n",
    "# Support Vector Classifier\n",
    "svc_model = SVC(C=1.0, kernel='linear')\n",
    "svc_model.fit(X_train_tfidf, y_train)\n",
    "y_pred_svc = svc_model.predict(X_test_tfidf)\n",
    "print(\"Support Vector Classifier Accuracy:\", accuracy_score(y_test, y_pred_svc))\n",
    "print(classification_report(y_test, y_pred_svc))\n",
    "\n",
    "# XGBoost\n",
    "xgb_model = XGBClassifier(use_label_encoder=False, eval_metric='logloss')\n",
    "label_encoder = LabelEncoder()\n",
    "y_train_encoded = label_encoder.fit_transform(y_train)\n",
    "xgb_model.fit(X_train_tfidf, y_train_encoded)\n",
    "y_pred_xgb = label_encoder.inverse_transform(xgb_model.predict(X_test_tfidf))\n",
    "print(\"XGBoost Accuracy:\", accuracy_score(y_test, y_pred_xgb))\n",
    "print(classification_report(y_test, y_pred_xgb))\n",
    "\n",
    "# TensorFlow Neural Network\n",
    "model = Sequential()\n",
    "model.add(Dense(512, input_dim=X_train_tfidf.shape[1], activation='relu'))\n",
    "model.add(Dropout(0.5))\n",
    "model.add(Dense(256, activation='relu'))\n",
    "model.add(Dropout(0.5))\n",
    "model.add(Dense(1, activation='sigmoid'))  # Use 'softmax' if you have more than two classes\n",
    "\n",
    "model.compile(loss='binary_crossentropy', optimizer='adam', metrics=['accuracy'])  # Use 'categorical_crossentropy' for multi-class\n",
    "\n",
    "# Convert labels to a format compatible with TensorFlow\n",
    "y_train_tf = (y_train == 'Politics').astype(int)\n",
    "y_test_tf = (y_test == 'Politics').astype(int)\n",
    "\n",
    "# Train the model\n",
    "model.fit(X_train_tfidf.toarray(), y_train_tf, epochs=10, batch_size=64, validation_split=0.1, verbose=1)\n",
    "\n",
    "# Evaluate the model\n",
    "y_pred_tf = (model.predict(X_test_tfidf.toarray()) > 0.5).astype(int)\n",
    "print(\"TensorFlow Neural Network Accuracy:\", accuracy_score(y_test_tf, y_pred_tf))\n",
    "print(classification_report(y_test_tf, y_pred_tf))\n"
   ]
  },
  {
   "cell_type": "markdown",
   "metadata": {},
   "source": [
    "# Hyper-parameter Tuning"
   ]
  },
  {
   "cell_type": "markdown",
   "metadata": {},
   "source": [
    "Hyper-parameter tuning involves finding the best set of parameters for each model to optimize their performance. This can be done using techniques like Grid Search or Random Search. Below, we show how to perform hyper-parameter tuning for each model using Grid Search."
   ]
  },
  {
   "cell_type": "code",
   "execution_count": 99,
   "metadata": {},
   "outputs": [],
   "source": [
    "param_grids = {\n",
    "    'LogisticRegression': {'C': [0.1, 1, 10], 'solver': ['liblinear', 'lbfgs']},\n",
    "    'RandomForestClassifier': {'n_estimators': [100, 200, 300], 'max_depth': [None, 10, 20, 30], 'min_samples_split': [2, 5, 10]},\n",
    "    'XGBClassifier': {'n_estimators': [100, 200, 300], 'learning_rate': [0.01, 0.1, 0.2], 'max_depth': [3, 5, 7]},\n",
    "    'SVC': {'C': [0.1, 1, 10], 'kernel': ['linear', 'rbf']},\n",
    "    'MultinomialNB': {'alpha': [0.1, 0.5, 1.0, 2.0, 5.0]}\n",
    "}\n",
    "\n",
    "# Define models\n",
    "models = {\n",
    "    'LogisticRegression': LogisticRegression(),\n",
    "    'RandomForestClassifier': RandomForestClassifier(),\n",
    "    'XGBClassifier': XGBClassifier(use_label_encoder=False, eval_metric='logloss'),\n",
    "    'SVC': SVC(),\n",
    "    'MultinomialNB': MultinomialNB()\n",
    "}\n",
    "\n"
   ]
  },
  {
   "cell_type": "code",
   "execution_count": null,
   "metadata": {},
   "outputs": [],
   "source": [
    "best_params = {}\n",
    "y_train_par =y_train\n",
    "for model_name in models.keys():\n",
    "    if model_name=='XGBClassifier' :\n",
    "        label_encoder = LabelEncoder()\n",
    "        y_train_par = label_encoder.fit_transform(y_train)\n",
    "\n",
    "    grid_search = GridSearchCV(models[model_name], param_grids[model_name], cv=5, scoring='accuracy')\n",
    "    grid_search.fit(X_train_tfidf, y_train_par)\n",
    "    best_params[model_name] = grid_search.best_params_\n",
    "    print(f\"Best parameters for {model_name}: {best_params[model_name]}\")"
   ]
  },
  {
   "cell_type": "markdown",
   "metadata": {},
   "source": [
    "# Performance"
   ]
  },
  {
   "cell_type": "markdown",
   "metadata": {},
   "source": [
    "The performance of the models is evaluated using metrics such as accuracy, precision, recall, and F1-score. The performance is broken down into two stages: model training using the resulted parameter of hyper-parameter tuning, then the second step is output prediction."
   ]
  },
  {
   "cell_type": "code",
   "execution_count": 86,
   "metadata": {},
   "outputs": [
    {
     "name": "stdout",
     "output_type": "stream",
     "text": [
      "Accuracy: 0.946360153256705\n",
      "              precision    recall  f1-score   support\n",
      "\n",
      "    Politics       0.95      0.94      0.95       638\n",
      "      Sports       0.95      0.95      0.95       667\n",
      "\n",
      "    accuracy                           0.95      1305\n",
      "   macro avg       0.95      0.95      0.95      1305\n",
      "weighted avg       0.95      0.95      0.95      1305\n",
      "\n"
     ]
    }
   ],
   "source": [
    "#Naive Bayes classifier\n",
    "\n",
    "classifier = MultinomialNB(**{'alpha': 0.1})\n",
    "classifier.fit(X_train_tfidf, y_train)\n",
    "\n",
    "y_pred = classifier.predict(X_test_tfidf)\n",
    "\n",
    "\n",
    "print(f'Accuracy: {accuracy_score(y_test, y_pred)}')\n",
    "print(classification_report(y_test, y_pred))\n",
    "\n"
   ]
  },
  {
   "cell_type": "code",
   "execution_count": 73,
   "metadata": {},
   "outputs": [
    {
     "name": "stdout",
     "output_type": "stream",
     "text": [
      "Logistic Regression Accuracy: 0.9440613026819923\n",
      "              precision    recall  f1-score   support\n",
      "\n",
      "    Politics       0.95      0.94      0.94       638\n",
      "      Sports       0.94      0.95      0.95       667\n",
      "\n",
      "    accuracy                           0.94      1305\n",
      "   macro avg       0.94      0.94      0.94      1305\n",
      "weighted avg       0.94      0.94      0.94      1305\n",
      "\n"
     ]
    }
   ],
   "source": [
    "# LogisticRegression\n",
    "lr_model = LogisticRegression(**{'C': 10, 'solver': 'liblinear'})\n",
    "lr_model.fit(X_train_tfidf, y_train)\n",
    "y_pred_lr = lr_model.predict(X_test_tfidf)\n",
    "print(\"Logistic Regression Accuracy:\", accuracy_score(y_test, y_pred_lr))\n",
    "print(classification_report(y_test, y_pred_lr))\n"
   ]
  },
  {
   "cell_type": "code",
   "execution_count": 74,
   "metadata": {},
   "outputs": [
    {
     "name": "stdout",
     "output_type": "stream",
     "text": [
      "Random Forest Accuracy: 0.9057471264367816\n",
      "              precision    recall  f1-score   support\n",
      "\n",
      "    Politics       0.92      0.89      0.90       638\n",
      "      Sports       0.90      0.92      0.91       667\n",
      "\n",
      "    accuracy                           0.91      1305\n",
      "   macro avg       0.91      0.91      0.91      1305\n",
      "weighted avg       0.91      0.91      0.91      1305\n",
      "\n"
     ]
    }
   ],
   "source": [
    "# Random Forest\n",
    "rf_model = RandomForestClassifier(**{'max_depth': None, 'min_samples_split': 10, 'n_estimators': 200})\n",
    "rf_model.fit(X_train_tfidf, y_train)\n",
    "y_pred_rf = rf_model.predict(X_test_tfidf)\n",
    "print(\"Random Forest Accuracy:\", accuracy_score(y_test, y_pred_rf))\n",
    "print(classification_report(y_test, y_pred_rf))\n"
   ]
  },
  {
   "cell_type": "code",
   "execution_count": 98,
   "metadata": {},
   "outputs": [
    {
     "name": "stdout",
     "output_type": "stream",
     "text": [
      "XGBoost Accuracy: 0.8996168582375479\n",
      "              precision    recall  f1-score   support\n",
      "\n",
      "    Politics       0.92      0.87      0.89       638\n",
      "      Sports       0.88      0.93      0.90       667\n",
      "\n",
      "    accuracy                           0.90      1305\n",
      "   macro avg       0.90      0.90      0.90      1305\n",
      "weighted avg       0.90      0.90      0.90      1305\n",
      "\n"
     ]
    }
   ],
   "source": [
    "# XGBoost\n",
    "xgb_model = XGBClassifier(**{'learning_rate': 0.2, 'max_depth': 7, 'n_estimators': 300})\n",
    "label_encoder = LabelEncoder()\n",
    "\n",
    "y_train_encoded = label_encoder.fit_transform(y_train)\n",
    "xgb_model.fit(X_train_tfidf, y_train_encoded)\n",
    "y_pred_encoded = xgb_model.predict(X_test_tfidf)\n",
    "y_pred_xgb = label_encoder.inverse_transform(y_pred_encoded)\n",
    "\n",
    "# Evaluate the model\n",
    "print(\"XGBoost Accuracy:\", accuracy_score(y_test, y_pred_xgb))\n",
    "print(classification_report(y_test, y_pred_xgb))\n"
   ]
  },
  {
   "cell_type": "code",
   "execution_count": 92,
   "metadata": {},
   "outputs": [
    {
     "name": "stdout",
     "output_type": "stream",
     "text": [
      "SVC Accuracy: 0.9356321839080459\n",
      "              precision    recall  f1-score   support\n",
      "\n",
      "    Politics       0.94      0.92      0.93       638\n",
      "      Sports       0.93      0.95      0.94       667\n",
      "\n",
      "    accuracy                           0.94      1305\n",
      "   macro avg       0.94      0.94      0.94      1305\n",
      "weighted avg       0.94      0.94      0.94      1305\n",
      "\n"
     ]
    }
   ],
   "source": [
    "#  SVC model\n",
    "svc_model = SVC(**{'C': 1, 'kernel': 'linear'})  # You can change the kernel type if needed\n",
    "svc_model.fit(X_train_tfidf, y_train)\n",
    "\n",
    "# Make predictions\n",
    "y_pred_svc = svc_model.predict(X_test_tfidf)\n",
    "\n",
    "# Print accuracy and classification report\n",
    "print(\"SVC Accuracy:\", accuracy_score(y_test, y_pred_svc))\n",
    "print(classification_report(y_test, y_pred_svc))"
   ]
  },
  {
   "cell_type": "code",
   "execution_count": 10,
   "metadata": {},
   "outputs": [
    {
     "name": "stderr",
     "output_type": "stream",
     "text": [
      "c:\\Users\\hp\\AppData\\Local\\Programs\\Python\\Python310\\lib\\site-packages\\keras\\src\\layers\\core\\dense.py:86: UserWarning: Do not pass an `input_shape`/`input_dim` argument to a layer. When using Sequential models, prefer using an `Input(shape)` object as the first layer in the model instead.\n",
      "  super().__init__(activity_regularizer=activity_regularizer, **kwargs)\n"
     ]
    },
    {
     "name": "stdout",
     "output_type": "stream",
     "text": [
      "Epoch 1/10\n",
      "\u001b[1m74/74\u001b[0m \u001b[32m━━━━━━━━━━━━━━━━━━━━\u001b[0m\u001b[37m\u001b[0m \u001b[1m11s\u001b[0m 85ms/step - accuracy: 0.7235 - loss: 0.5944 - val_accuracy: 0.9291 - val_loss: 0.1598\n",
      "Epoch 2/10\n",
      "\u001b[1m74/74\u001b[0m \u001b[32m━━━━━━━━━━━━━━━━━━━━\u001b[0m\u001b[37m\u001b[0m \u001b[1m6s\u001b[0m 77ms/step - accuracy: 0.9608 - loss: 0.1012 - val_accuracy: 0.9310 - val_loss: 0.1483\n",
      "Epoch 3/10\n",
      "\u001b[1m74/74\u001b[0m \u001b[32m━━━━━━━━━━━━━━━━━━━━\u001b[0m\u001b[37m\u001b[0m \u001b[1m6s\u001b[0m 80ms/step - accuracy: 0.9928 - loss: 0.0308 - val_accuracy: 0.9349 - val_loss: 0.1556\n",
      "Epoch 4/10\n",
      "\u001b[1m74/74\u001b[0m \u001b[32m━━━━━━━━━━━━━━━━━━━━\u001b[0m\u001b[37m\u001b[0m \u001b[1m6s\u001b[0m 80ms/step - accuracy: 0.9925 - loss: 0.0196 - val_accuracy: 0.9330 - val_loss: 0.1737\n",
      "Epoch 5/10\n",
      "\u001b[1m74/74\u001b[0m \u001b[32m━━━━━━━━━━━━━━━━━━━━\u001b[0m\u001b[37m\u001b[0m \u001b[1m6s\u001b[0m 76ms/step - accuracy: 0.9951 - loss: 0.0117 - val_accuracy: 0.9310 - val_loss: 0.1788\n",
      "Epoch 6/10\n",
      "\u001b[1m74/74\u001b[0m \u001b[32m━━━━━━━━━━━━━━━━━━━━\u001b[0m\u001b[37m\u001b[0m \u001b[1m6s\u001b[0m 76ms/step - accuracy: 0.9976 - loss: 0.0080 - val_accuracy: 0.9387 - val_loss: 0.1772\n",
      "Epoch 7/10\n",
      "\u001b[1m74/74\u001b[0m \u001b[32m━━━━━━━━━━━━━━━━━━━━\u001b[0m\u001b[37m\u001b[0m \u001b[1m5s\u001b[0m 73ms/step - accuracy: 0.9960 - loss: 0.0088 - val_accuracy: 0.9368 - val_loss: 0.1822\n",
      "Epoch 8/10\n",
      "\u001b[1m74/74\u001b[0m \u001b[32m━━━━━━━━━━━━━━━━━━━━\u001b[0m\u001b[37m\u001b[0m \u001b[1m6s\u001b[0m 74ms/step - accuracy: 0.9962 - loss: 0.0085 - val_accuracy: 0.9310 - val_loss: 0.1873\n",
      "Epoch 9/10\n",
      "\u001b[1m74/74\u001b[0m \u001b[32m━━━━━━━━━━━━━━━━━━━━\u001b[0m\u001b[37m\u001b[0m \u001b[1m5s\u001b[0m 71ms/step - accuracy: 0.9977 - loss: 0.0091 - val_accuracy: 0.9387 - val_loss: 0.1921\n",
      "Epoch 10/10\n",
      "\u001b[1m74/74\u001b[0m \u001b[32m━━━━━━━━━━━━━━━━━━━━\u001b[0m\u001b[37m\u001b[0m \u001b[1m5s\u001b[0m 72ms/step - accuracy: 0.9961 - loss: 0.0087 - val_accuracy: 0.9387 - val_loss: 0.2077\n",
      "\u001b[1m41/41\u001b[0m \u001b[32m━━━━━━━━━━━━━━━━━━━━\u001b[0m\u001b[37m\u001b[0m \u001b[1m1s\u001b[0m 10ms/step\n",
      "TensorFlow Neural Network Accuracy: 0.9455938697318008\n",
      "              precision    recall  f1-score   support\n",
      "\n",
      "    Politics       0.93      0.96      0.95       638\n",
      "      Sports       0.96      0.94      0.95       667\n",
      "\n",
      "    accuracy                           0.95      1305\n",
      "   macro avg       0.95      0.95      0.95      1305\n",
      "weighted avg       0.95      0.95      0.95      1305\n",
      "\n"
     ]
    }
   ],
   "source": [
    "# TensorFlow Neural Network\n",
    "model = Sequential()\n",
    "model.add(Dense(512, input_dim=X_train_tfidf.shape[1], activation='relu'))\n",
    "model.add(Dropout(0.5))\n",
    "model.add(Dense(256, activation='relu'))\n",
    "model.add(Dropout(0.5))\n",
    "model.add(Dense(1, activation='sigmoid'))  # Use 'softmax' if you have more than two classes\n",
    "\n",
    "model.compile(loss='binary_crossentropy', optimizer='adam', metrics=['accuracy'])  # Use 'categorical_crossentropy' for multi-class\n",
    "\n",
    "# Convert labels to a format compatible with TensorFlow\n",
    "y_train_tf = (y_train == 'Politics').astype(int)\n",
    "y_test_tf = (y_test == 'Politics').astype(int)\n",
    "\n",
    "model.fit(X_train_tfidf.toarray(), y_train_tf, epochs=10, batch_size=64, validation_split=0.1, verbose=1)\n",
    "\n",
    "# Evaluate the model\n",
    "y_pred_tf = (model.predict(X_test_tfidf.toarray()) > 0.5).astype(int)\n",
    "\n",
    "# Convert predictions back to original labels\n",
    "y_pred_original = np.where(y_pred_tf == 1, 'Politics', 'Sports')\n",
    "\n",
    "# Calculate accuracy and other metrics\n",
    "print(\"TensorFlow Neural Network Accuracy:\", accuracy_score(y_test, y_pred_original))\n",
    "print(classification_report(y_test, y_pred_original))"
   ]
  },
  {
   "cell_type": "code",
   "execution_count": 37,
   "metadata": {},
   "outputs": [
    {
     "data": {
      "image/png": "[encoded data removed]",
      "text/plain": [
       "<Figure size 800x600 with 2 Axes>"
      ]
     },
     "metadata": {},
     "output_type": "display_data"
    },
    {
     "data": {
      "image/png": "[encoded data removed]",
      "text/plain": [
       "<Figure size 800x600 with 2 Axes>"
      ]
     },
     "metadata": {},
     "output_type": "display_data"
    },
    {
     "data": {
      "image/png": "[encoded data removed]",
      "text/plain": [
       "<Figure size 800x600 with 2 Axes>"
      ]
     },
     "metadata": {},
     "output_type": "display_data"
    },
    {
     "data": {
      "image/png": "[encoded data removed]",
      "text/plain": [
       "<Figure size 800x600 with 2 Axes>"
      ]
     },
     "metadata": {},
     "output_type": "display_data"
    },
    {
     "data": {
      "image/png": "[encoded data removed]",
      "text/plain": [
       "<Figure size 800x600 with 2 Axes>"
      ]
     },
     "metadata": {},
     "output_type": "display_data"
    },
    {
     "data": {
      "image/png": "[encoded data removed]",
      "text/plain": [
       "<Figure size 800x600 with 2 Axes>"
      ]
     },
     "metadata": {},
     "output_type": "display_data"
    }
   ],
   "source": [
    "\n",
    "valeur_predis=[y_pred_original,y_pred_xgb, y_pred_rf, y_pred_lr, y_pred, y_pred_svc]\n",
    "model=['TensorFlow','XGBoost','Random_Forest','LogisticRegression','Naive_Bayes_classifier', 'Support_Vector_Classifier']\n",
    "for i  in range(len(valeur_predis)) :\n",
    "    cm = confusion_matrix(valeur_predis[i], y_pred)\n",
    "\n",
    "    # Define labels for the confusion matrix\n",
    "    labels = ['Sports', 'Politics']\n",
    "\n",
    "    # Create a heatmap\n",
    "    plt.figure(figsize=(8, 6))\n",
    "    sns.heatmap(cm, annot=True, fmt='d', cmap='Blues', xticklabels=labels, yticklabels=labels)\n",
    "    plt.xlabel('Predicted')\n",
    "    plt.ylabel('True')\n",
    "    plt.title(model[i] + ' Confusion Matrix')\n",
    "    plt.show()"
   ]
  },
  {
   "cell_type": "markdown",
   "metadata": {},
   "source": [
    "# Future Improvements"
   ]
  },
  {
   "cell_type": "markdown",
   "metadata": {},
   "source": [
    "### To further enhance the performance of the models and the overall solution, consider the following improvements:\n",
    "\n",
    "1- Feature Engineering:\n",
    "\n",
    "N-grams: Incorporate bi-grams or tri-grams in your TfidfVectorizer to capture more context in the text data.\n",
    "\n",
    "Domain-specific Features: Add features that are specific to the domain of your dataset, such as named entity recognition (NER) tags, sentiment scores, or part-of-speech tags.\n",
    "\n",
    "Word Embeddings: Use word embeddings (e.g., Word2Vec, GloVe, FastText) or contextual embeddings (e.g., BERT, ELMo) to capture semantic relationships between words.\n",
    "\n",
    "2- Model Complexity:\n",
    "\n",
    "Ensemble Methods: Explore ensemble techniques like stacking, blending, or bagging to combine predictions from multiple models, which can lead to better generalization.\n",
    "\n",
    "Deep Learning Models: Experiment with more complex neural network architectures, such as convolutional neural networks (CNNs) or recurrent neural networks (RNNs) for text classification tasks.\n",
    "\n",
    "3- Hyper-parameter Optimization:\n",
    "\n",
    "Automated Hyper-parameter Tuning: Use automated hyper-parameter tuning libraries like Optuna or Hyperopt to find the optimal hyper-parameters more efficiently.\n",
    "\n",
    "4-Data Augmentation:\n",
    "\n",
    "Synthetic Data Generation: Use techniques like data augmentation or synthetic data generation to increase the size and diversity of your training dataset."
   ]
  },
  {
   "cell_type": "code",
   "execution_count": 12,
   "metadata": {},
   "outputs": [
    {
     "name": "stdout",
     "output_type": "stream",
     "text": [
      "\u001b[1m82/82\u001b[0m \u001b[32m━━━━━━━━━━━━━━━━━━━━\u001b[0m\u001b[37m\u001b[0m \u001b[1m1s\u001b[0m 6ms/step\n"
     ]
    }
   ],
   "source": [
    "test_copy['cleaned_tweets']=test_copy['TweetText'].apply(preprocess_text)\n",
    "test_copy['cleaned_tweets'] = test_copy['cleaned_tweets'].apply(lemmatize_text)\n",
    "\n",
    "\n",
    "X_test_tfidf = vectorizer.transform(test_copy['cleaned_tweets'])\n",
    "\n",
    "# Evaluate the model\n",
    "y_pred_tf = (model.predict(X_test_tfidf.toarray()) > 0.5).astype(int)\n",
    "\n",
    "# Convert predictions back to original labels\n",
    "y_pred_original = np.where(y_pred_tf == 1, 'Politics', 'Sports')\n",
    "\n",
    "\n"
   ]
  },
  {
   "cell_type": "code",
   "execution_count": 13,
   "metadata": {},
   "outputs": [
    {
     "data": {
      "text/html": [
       "<div>\n",
       "<style scoped>\n",
       "    .dataframe tbody tr th:only-of-type {\n",
       "        vertical-align: middle;\n",
       "    }\n",
       "\n",
       "    .dataframe tbody tr th {\n",
       "        vertical-align: top;\n",
       "    }\n",
       "\n",
       "    .dataframe thead th {\n",
       "        text-align: right;\n",
       "    }\n",
       "</style>\n",
       "<table border=\"1\" class=\"dataframe\">\n",
       "  <thead>\n",
       "    <tr style=\"text-align: right;\">\n",
       "      <th></th>\n",
       "      <th>TweetId</th>\n",
       "      <th>TweetText</th>\n",
       "      <th>Label</th>\n",
       "    </tr>\n",
       "  </thead>\n",
       "  <tbody>\n",
       "    <tr>\n",
       "      <th>0</th>\n",
       "      <td>306486520121012224</td>\n",
       "      <td>'28. The home side threaten again through Maso...</td>\n",
       "      <td>Sports</td>\n",
       "    </tr>\n",
       "    <tr>\n",
       "      <th>1</th>\n",
       "      <td>286353402605228032</td>\n",
       "      <td>'@mrbrown @aulia Thx for asking. See http://t....</td>\n",
       "      <td>Politics</td>\n",
       "    </tr>\n",
       "    <tr>\n",
       "      <th>2</th>\n",
       "      <td>289531046037438464</td>\n",
       "      <td>'@Sochi2014 construction along the shores of t...</td>\n",
       "      <td>Politics</td>\n",
       "    </tr>\n",
       "    <tr>\n",
       "      <th>3</th>\n",
       "      <td>306451661403062273</td>\n",
       "      <td>'#SecKerry\\u2019s remarks after meeting with F...</td>\n",
       "      <td>Politics</td>\n",
       "    </tr>\n",
       "    <tr>\n",
       "      <th>4</th>\n",
       "      <td>297941800658812928</td>\n",
       "      <td>'The #IPLauction has begun. Ricky Ponting is t...</td>\n",
       "      <td>Sports</td>\n",
       "    </tr>\n",
       "    <tr>\n",
       "      <th>...</th>\n",
       "      <td>...</td>\n",
       "      <td>...</td>\n",
       "      <td>...</td>\n",
       "    </tr>\n",
       "    <tr>\n",
       "      <th>2605</th>\n",
       "      <td>282023761044189184</td>\n",
       "      <td>'Qualifier 1 and Eliminator games will be play...</td>\n",
       "      <td>Sports</td>\n",
       "    </tr>\n",
       "    <tr>\n",
       "      <th>2606</th>\n",
       "      <td>303879735006601216</td>\n",
       "      <td>@reesedward Hi Edward, it's not a #peacekeepin...</td>\n",
       "      <td>Sports</td>\n",
       "    </tr>\n",
       "    <tr>\n",
       "      <th>2607</th>\n",
       "      <td>297956846046703616</td>\n",
       "      <td>'Perera was @SunRisersIPL first #IPL purchase ...</td>\n",
       "      <td>Sports</td>\n",
       "    </tr>\n",
       "    <tr>\n",
       "      <th>2608</th>\n",
       "      <td>304265049537658880</td>\n",
       "      <td>'#SecKerry: Thanks to Senator @TimKaine, @RepR...</td>\n",
       "      <td>Politics</td>\n",
       "    </tr>\n",
       "    <tr>\n",
       "      <th>2609</th>\n",
       "      <td>306430391928115200</td>\n",
       "      <td>Here's a picture from our official Pinterest a...</td>\n",
       "      <td>Politics</td>\n",
       "    </tr>\n",
       "  </tbody>\n",
       "</table>\n",
       "<p>2610 rows × 3 columns</p>\n",
       "</div>"
      ],
      "text/plain": [
       "                 TweetId                                          TweetText  \\\n",
       "0     306486520121012224  '28. The home side threaten again through Maso...   \n",
       "1     286353402605228032  '@mrbrown @aulia Thx for asking. See http://t....   \n",
       "2     289531046037438464  '@Sochi2014 construction along the shores of t...   \n",
       "3     306451661403062273  '#SecKerry\\u2019s remarks after meeting with F...   \n",
       "4     297941800658812928  'The #IPLauction has begun. Ricky Ponting is t...   \n",
       "...                  ...                                                ...   \n",
       "2605  282023761044189184  'Qualifier 1 and Eliminator games will be play...   \n",
       "2606  303879735006601216  @reesedward Hi Edward, it's not a #peacekeepin...   \n",
       "2607  297956846046703616  'Perera was @SunRisersIPL first #IPL purchase ...   \n",
       "2608  304265049537658880  '#SecKerry: Thanks to Senator @TimKaine, @RepR...   \n",
       "2609  306430391928115200  Here's a picture from our official Pinterest a...   \n",
       "\n",
       "         Label  \n",
       "0       Sports  \n",
       "1     Politics  \n",
       "2     Politics  \n",
       "3     Politics  \n",
       "4       Sports  \n",
       "...        ...  \n",
       "2605    Sports  \n",
       "2606    Sports  \n",
       "2607    Sports  \n",
       "2608  Politics  \n",
       "2609  Politics  \n",
       "\n",
       "[2610 rows x 3 columns]"
      ]
     },
     "execution_count": 13,
     "metadata": {},
     "output_type": "execute_result"
    }
   ],
   "source": [
    "test_copy['Label']=y_pred_original\n",
    "test_copy.drop(['cleaned_tweets'] ,axis=1, inplace=True)\n",
    "test_copy"
   ]
  },
  {
   "cell_type": "code",
   "execution_count": 14,
   "metadata": {},
   "outputs": [],
   "source": [
    "# Transforming DataFrame into a CSV file\n",
    "test_copy.to_csv('results.csv', index=False)"
   ]
  }
 ],
 "metadata": {
  "kernelspec": {
   "display_name": "Python 3",
   "language": "python",
   "name": "python3"
  },
  "language_info": {
   "codemirror_mode": {
    "name": "ipython",
    "version": 3
   },
   "file_extension": ".py",
   "mimetype": "text/x-python",
   "name": "python",
   "nbconvert_exporter": "python",
   "pygments_lexer": "ipython3",
   "version": "3.10.0"
  }
 },
 "nbformat": 4,
 "nbformat_minor": 2
}
